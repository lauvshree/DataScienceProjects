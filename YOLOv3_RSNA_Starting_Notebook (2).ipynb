{
  "nbformat": 4,
  "nbformat_minor": 0,
  "metadata": {
    "kernelspec": {
      "name": "python3",
      "display_name": "Python 3"
    },
    "language_info": {
      "name": "python",
      "version": "3.6.6",
      "mimetype": "text/x-python",
      "codemirror_mode": {
        "name": "ipython",
        "version": 3
      },
      "pygments_lexer": "ipython3",
      "nbconvert_exporter": "python",
      "file_extension": ".py"
    },
    "colab": {
      "name": "YOLOv3-RSNA Starting Notebook.ipynb",
      "provenance": [],
      "collapsed_sections": []
    },
    "accelerator": "GPU"
  },
  "cells": [
    {
      "cell_type": "code",
      "metadata": {
        "trusted": true,
        "_uuid": "ce28f29df7b9f64725998f8133be50068c53cb69",
        "id": "cY-_Yszg6UMp",
        "colab_type": "code",
        "colab": {}
      },
      "source": [
        "import math\n",
        "import os\n",
        "import shutil\n",
        "import sys\n",
        "\n",
        "import numpy as np\n",
        "import pandas as pd\n",
        "import matplotlib.pyplot as plt\n",
        "import glob\n",
        "import cv2\n",
        "from sklearn.model_selection import train_test_split\n"
      ],
      "execution_count": 0,
      "outputs": []
    },
    {
      "cell_type": "code",
      "metadata": {
        "trusted": true,
        "_uuid": "c4b33affdc049734daa58852c4ed06e37c344063",
        "id": "-NK08u666UMs",
        "colab_type": "code",
        "colab": {}
      },
      "source": [
        "random_stat = 123\n",
        "np.random.seed(random_stat)"
      ],
      "execution_count": 0,
      "outputs": []
    },
    {
      "cell_type": "code",
      "metadata": {
        "id": "BrIJirCX66lp",
        "colab_type": "code",
        "colab": {}
      },
      "source": [
        "%tensorflow_version 2.x\n",
        "import tensorflow\n",
        "print(tensorflow.__version__)"
      ],
      "execution_count": 0,
      "outputs": []
    },
    {
      "cell_type": "code",
      "metadata": {
        "id": "288HjH0_TFHn",
        "colab_type": "code",
        "colab": {}
      },
      "source": [
        "from google.colab import drive\n",
        "drive.mount('/content/gdrive/',force_remount=True)"
      ],
      "execution_count": 0,
      "outputs": []
    },
    {
      "cell_type": "markdown",
      "metadata": {
        "_uuid": "5702330ac23995099c3f184ef0424731d91a303c",
        "id": "q4ADVjXT6UMz",
        "colab_type": "text"
      },
      "source": [
        "## 2. Data Migration for YOLOv3\n",
        "\n",
        "### 2.0. Make subdirectories"
      ]
    },
    {
      "cell_type": "code",
      "metadata": {
        "trusted": true,
        "_uuid": "55f5d67ac085afcc445db23227ba60748eb269fa",
        "id": "eiofF2Do6UM0",
        "colab_type": "code",
        "colab": {}
      },
      "source": [
        "project_path = \"/content/gdrive/My Drive/Colab Notebooks/Capstone Project/\"\n",
        "data_path = \"/content/gdrive/My Drive/Colab Notebooks/Capstone Project/data/\"\n",
        "images_path = \"/content/gdrive/My Drive/Colab Notebooks/Capstone Project/data/training_images/\"\n",
        "\n",
        "\n",
        "img_dir = data_path+ \"training_images\"  # .jpg\n",
        "label_dir = data_path+ \"training_labels\"  # .txt\n",
        "metadata_dir = data_path+ \"cfg\" # .txt\n",
        "\n",
        "cfg_dir = data_path + \"cfg\"\n",
        "#To save the model checkpoints\n",
        "backup_dir = data_path + \"backup\"\n",
        "\n",
        "\n",
        "# We are using the image dir we generated in the EDA. The other directories will have to be created if they don't exist\n",
        "for directory in [label_dir, metadata_dir, cfg_dir, backup_dir]:\n",
        "    if os.path.isdir(directory):\n",
        "        continue\n",
        "    os.mkdir(directory)"
      ],
      "execution_count": 0,
      "outputs": []
    },
    {
      "cell_type": "markdown",
      "metadata": {
        "_uuid": "ba6a35b97d0a42060e6fdd68a6da23454aa40568",
        "id": "Br6jNtGI6UM7",
        "colab_type": "text"
      },
      "source": [
        "### 2.1. Load patient_data.csv"
      ]
    },
    {
      "cell_type": "code",
      "metadata": {
        "trusted": true,
        "_uuid": "e242b29961c22433703e442a84572783b9459de9",
        "id": "JoS9mhlQ6UM8",
        "colab_type": "code",
        "colab": {}
      },
      "source": [
        "#The CSV has generated as a part of the EDA has details of the bounding boxes as may be applicable. \n",
        "patient_data = pd.read_csv(os.path.join(data_path, \"patients_data.csv\"))\n",
        "patient_data.head()"
      ],
      "execution_count": 0,
      "outputs": []
    },
    {
      "cell_type": "markdown",
      "metadata": {
        "_uuid": "9b26d929bb119deca558ac983a5ce4e95fe9b7cc",
        "id": "es4SUPmY6UM-",
        "colab_type": "text"
      },
      "source": [
        "### 2.2. Generate image details for training YOLO\n",
        "* YOLO needs .txt file for each image, which contains bounding boxes in the image that looks like:\n",
        "```\n",
        "<object-class_1> <x_1> <y_1> <width_1> <height_1>\n",
        "<object-class_2> <x_2> <y_2> <width_2> <height_2>\n",
        "```\n",
        "* <object-class\\>: Since RSNA task is binary classification basically, <object-class\\> is 1 as we are going to train on the images with Pneumonia.\n",
        "* <x\\>, <y\\>: Those are float values of bbox center coordinate, divided by image width and height respectively.\n",
        "* <w\\>, <h\\>: Those are width and height of bbox, divided by image width and height respectively.\n"
      ]
    },
    {
      "cell_type": "code",
      "metadata": {
        "id": "Ygp1iJL_ZNOv",
        "colab_type": "code",
        "colab": {}
      },
      "source": [
        "\n",
        "def save_yolo_input_txt():\n",
        "    # rsna defualt image size\n",
        "    img_size = 1024\n",
        "    pneumonia_patients = patient_data[patient_data.Target == 1]\n",
        "    for index,row in pneumonia_patients.iterrows():\n",
        "      label_fp = os.path.join(label_dir, \"{}.txt\".format(row['patientId']))\n",
        "      f = open(label_fp, \"a\")\n",
        "      top_left_x = row['x']\n",
        "      top_left_y = row['y']\n",
        "      w = row['width']\n",
        "      h = row['height']\n",
        "      \n",
        "      rx = top_left_x/img_size\n",
        "      ry = top_left_y/img_size\n",
        "      rw = w/img_size\n",
        "      rh = h/img_size\n",
        "      rcx = rx+rw/2\n",
        "      rcy = ry+rh/2\n",
        "      \n",
        "      line = \"{} {} {} {} {}\\n\".format(0, rcx, rcy, rw, rh)\n",
        "      \n",
        "      f.write(line)\n",
        "      f.flush()\n",
        "      f.close()\n"
      ],
      "execution_count": 0,
      "outputs": []
    },
    {
      "cell_type": "code",
      "metadata": {
        "trusted": true,
        "_uuid": "1e907f30b11bf6956884061138d615bee60c2a15",
        "id": "sMNR1MWa6UNB",
        "colab_type": "code",
        "colab": {}
      },
      "source": [
        "save_yolo_input_txt()"
      ],
      "execution_count": 0,
      "outputs": []
    },
    {
      "cell_type": "markdown",
      "metadata": {
        "_uuid": "17868a4d327c2e22adae76cc7ce163c5546e1743",
        "id": "BA35x-Em6UNF",
        "colab_type": "text"
      },
      "source": [
        "### 2.3. Plot a sample train image and label"
      ]
    },
    {
      "cell_type": "code",
      "metadata": {
        "trusted": true,
        "_uuid": "8ebf845a4f3b51555991292d10ddc272b226bf7c",
        "id": "EBKbaT0z6UNG",
        "colab_type": "code",
        "colab": {}
      },
      "source": [
        "#Take a patiend id where target is 1 and show it with the bounding boxes\n",
        "\n",
        "ex_patient_id = patient_data[patient_data.Target == 1].sample(1)\n",
        "for index,row in ex_patient_id.iterrows():\n",
        "  ex_patient_id = row['patientId']\n",
        "print(ex_patient_id)\n",
        "ex_img_path = \"/content/gdrive/My Drive/Colab Notebooks/Capstone Project/data/training_images/\"+ex_patient_id+\".jpg\"\n",
        "ex_label_path = \"/content/gdrive/My Drive/Colab Notebooks/Capstone Project/data/training_labels/\"+ex_patient_id+\".txt\"\n",
        "\n"
      ],
      "execution_count": 0,
      "outputs": []
    },
    {
      "cell_type": "code",
      "metadata": {
        "id": "_AR2nOhOlc5W",
        "colab_type": "code",
        "colab": {}
      },
      "source": [
        "img_size = 1014\n",
        "print(ex_img_path)\n",
        "plt.imshow(cv2.imread(ex_img_path))\n",
        "\n",
        "with open(ex_label_path, \"r\") as f:\n",
        "    for line in f:\n",
        "        print(line)\n",
        "        class_id, rcx, rcy, rw, rh = list(map(float, line.strip().split()))\n",
        "        x = (rcx-rw/2)*img_size\n",
        "        y = (rcy-rh/2)*img_size\n",
        "        w = rw*img_size\n",
        "        h = rh*img_size\n",
        "        plt.plot([x, x, x+w, x+w, x], [y, y+h, y+h, y, y])"
      ],
      "execution_count": 0,
      "outputs": []
    },
    {
      "cell_type": "code",
      "metadata": {
        "id": "b39xKSMnBXyQ",
        "colab_type": "code",
        "colab": {}
      },
      "source": [
        "#For the following command to be run, you must have cloned darknet from git repo and run a make. \n",
        "\n",
        "darknet_dir = '/content/gdrive/My Drive/Colab Notebooks/Capstone Project/darknet'\n",
        "os.chdir(\"/content/gdrive/My Drive/Colab Notebooks/Capstone Project/\")\n",
        "if os.path.exists(darknet_dir) == False :\n",
        "  !git clone https://github.com/pjreddie/darknet\n",
        "  os.chdir(darknet_dir)\n",
        "else:\n",
        "  os.chdir(darknet_dir)\n",
        "  !git pull\n",
        "\n"
      ],
      "execution_count": 0,
      "outputs": []
    },
    {
      "cell_type": "code",
      "metadata": {
        "id": "ZlpT4fGRhCiK",
        "colab_type": "code",
        "colab": {}
      },
      "source": [
        "os.chdir(darknet_dir)\n",
        "!make -B\n"
      ],
      "execution_count": 0,
      "outputs": []
    },
    {
      "cell_type": "markdown",
      "metadata": {
        "_uuid": "42551c1e11208ee88f9b93bea40c23dcad295b8a",
        "id": "ozEeuPIS6UNI",
        "colab_type": "text"
      },
      "source": [
        "### 2.4. Generate train/val file path list (.txt)\n",
        "* We should give the list of image paths to YOLO. two seperate list textfiles for training images and validation images."
      ]
    },
    {
      "cell_type": "code",
      "metadata": {
        "trusted": true,
        "_uuid": "d62f98b287e73a66c234c4c9f9e41503fc0d4bca",
        "id": "mC5XK_Oa6UNJ",
        "colab_type": "code",
        "colab": {}
      },
      "source": [
        "def write_train_list(metadata_dir, img_dir, name, series):\n",
        "    list_fp = os.path.join(metadata_dir, name)\n",
        "    with open(list_fp, \"w\") as f:\n",
        "        for patient_img in series:\n",
        "            line = \"{}\\n\".format(os.path.join(img_dir, patient_img))\n",
        "            f.write(line)"
      ],
      "execution_count": 0,
      "outputs": []
    },
    {
      "cell_type": "code",
      "metadata": {
        "trusted": true,
        "_uuid": "4c3982b42711fe4a20600b90ed3d123384da7096",
        "id": "bfzsE-ES6UNL",
        "colab_type": "code",
        "colab": {}
      },
      "source": [
        "patient_data_unique = patient_data[patient_data.Target == 1].patientId.drop_duplicates()\n",
        "\n",
        "patient_xray_images = patient_data_unique+\".jpg\"\n",
        "\n",
        "tr_series, val_series = train_test_split(patient_xray_images, test_size=0.1, random_state=random_stat)\n",
        "print(\"The # of train set: {}, The # of validation set: {}\".format(tr_series.shape[0], val_series.shape[0]))\n",
        "# train image path list\n",
        "write_train_list(metadata_dir, img_dir, \"tr_list.txt\", tr_series)\n",
        "# validation image path list\n",
        "write_train_list(metadata_dir, img_dir, \"val_list.txt\", val_series)"
      ],
      "execution_count": 0,
      "outputs": []
    },
    {
      "cell_type": "markdown",
      "metadata": {
        "_uuid": "8ac8f43aae2bc82599fd1bb4a66d1dd444b66a28",
        "id": "bXChiSgY6UNW",
        "colab_type": "text"
      },
      "source": [
        "## 3. Prepare Configuration Files for Using YOLOv3\n",
        "We should prepare and modify config files, and bring pre-trained weights necessary for training. This proceeds with following four steps.\n",
        "```\n",
        " cfg/rsna.data\n",
        " cfg/rsna.names\n",
        " darknet53.conv.74\n",
        " cfg/rsna_yolov3.cfg_train\n",
        "```"
      ]
    },
    {
      "cell_type": "markdown",
      "metadata": {
        "_uuid": "72fb38e755495fca3bf456c4494c05b5300d3411",
        "id": "YkzYLQK66UNX",
        "colab_type": "text"
      },
      "source": [
        "### - cfg/rsna.data\n",
        "This file point to RSNA data path\n",
        "  * train: Path to training image list textfile\n",
        "  * valid: Path to validation image list textfile\n",
        "  * names: The file containing the possible RSNA names - This in our case is a file named rsna.names in the same directory, containing just one entry 'pneumonia' as that is the only class. \n",
        "  * backup: A directory where trained weights(checkpoints) will be stored as training progresses.\n",
        "  * results: Path to the directory where the prediction results are to be stored.\n",
        "\n",
        "Sample content of rsna.names\n",
        "```\n",
        "classes= 1\n",
        "train  = tr_list.txt\n",
        "valid  = val_list.txt\n",
        "names  = rsna.names\n",
        "eval  = rsna.names\n",
        "backup = model_backup\n",
        "results = pred_results\n",
        "```"
      ]
    },
    {
      "cell_type": "code",
      "metadata": {
        "trusted": true,
        "_uuid": "684b3e9dde58f56a746952d2934661712e417161",
        "id": "8Mj7_L4S6UNa",
        "colab_type": "code",
        "colab": {}
      },
      "source": [
        "os.chdir(cfg_dir)"
      ],
      "execution_count": 0,
      "outputs": []
    },
    {
      "cell_type": "markdown",
      "metadata": {
        "_uuid": "6415f6efcae6fca1812cb402af668428d2918e46",
        "id": "R5YGwfAn6UNf",
        "colab_type": "text"
      },
      "source": [
        "### - darknet53.conv.74  (Download Pre-trained Model)\n",
        "For training, we would download the pre-trained model weights(darknet53.conv.74) using following wget command. Alternatively, you can download it from the link used in wget command below and upload it to the relevant directory in your path. "
      ]
    },
    {
      "cell_type": "code",
      "metadata": {
        "id": "C53sjc8Y1fgn",
        "colab_type": "code",
        "colab": {}
      },
      "source": [
        "if os.path.exists(cfg_dir+\"darknet53.conv.74\") == False:\n",
        "  !wget -q https://pjreddie.com/media/files/darknet53.conv.74"
      ],
      "execution_count": 0,
      "outputs": []
    },
    {
      "cell_type": "code",
      "metadata": {
        "id": "YOyecs901095",
        "colab_type": "code",
        "colab": {}
      },
      "source": [
        "if os.path.exists(cfg_dir+\"rsna_yolov3_batch64.cfg_train\") == False:\n",
        "  !wget --no-check-certificate -q \"https://docs.google.com/uc?export=download&id=18ptTK4Vbeokqpux8Onr0OmwUP9ipmcYO\" -O rsna_yolov3_batch64.cfg_train"
      ],
      "execution_count": 0,
      "outputs": []
    },
    {
      "cell_type": "markdown",
      "metadata": {
        "_uuid": "f03592ee228f9ae16edac192071955d01233a147",
        "id": "ymX8SU996UNk",
        "colab_type": "text"
      },
      "source": [
        "## 4. Training YOLOv3\n",
        "\n"
      ]
    },
    {
      "cell_type": "markdown",
      "metadata": {
        "_uuid": "69f52f31dea66f3da1952b537c63dc5376d64492",
        "id": "ykN14SyF6UNl",
        "colab_type": "text"
      },
      "source": [
        "### 4.0. Command for training with Pre-trained CNN Weights (darknet53.conv.74)\n"
      ]
    },
    {
      "cell_type": "code",
      "metadata": {
        "id": "OdH04RnJJcQy",
        "colab_type": "code",
        "colab": {}
      },
      "source": [
        "!/content/gdrive/My\\ Drive/Colab\\ Notebooks/Capstone\\ Project/darknet/darknet detector train  rsna.data /content/gdrive/My\\ Drive/Colab\\ Notebooks/Capstone\\ Project/darknet/cfg/rsna_yolov3_batch64.cfg_train darknet53.conv.74 -i 0 | tee train_log.txt"
      ],
      "execution_count": 0,
      "outputs": []
    },
    {
      "cell_type": "markdown",
      "metadata": {
        "_uuid": "ef7409909b9403f43b2c92760220b23a38d42029",
        "id": "q8KRDwce6UNy",
        "colab_type": "text"
      },
      "source": [
        "## 5. How to use trainined YOLOv3 for test images (command line)"
      ]
    },
    {
      "cell_type": "markdown",
      "metadata": {
        "_uuid": "c97da5c5f52e0257a3b1a2568e6260a9560700a0",
        "id": "ZS0f89hv6UNz",
        "colab_type": "text"
      },
      "source": [
        "### 5.0. Copy sample test image"
      ]
    },
    {
      "cell_type": "code",
      "metadata": {
        "trusted": true,
        "_uuid": "688344d91c7f7fb87418486b9b6b5f91a8b26e9a",
        "id": "Dc4CqFYh6UNz",
        "colab_type": "code",
        "colab": {}
      },
      "source": [
        "ex_patient_id = patient_data[patient_data.Target == 1].patientId.values[2]\n",
        "shutil.copy(ex_img_path, \"test.jpg\")\n",
        "print(ex_img_path)\n",
        "!pwd"
      ],
      "execution_count": 0,
      "outputs": []
    },
    {
      "cell_type": "markdown",
      "metadata": {
        "_uuid": "245c607d7753b947a91fe4d7ce8daf983afdfd0e",
        "id": "XvkmPTFe6UN3",
        "colab_type": "text"
      },
      "source": [
        "### 5.1. Load trained model (at 6300 iteration)\n",
        "Load the trained model at 6300 iteration stored in model_backup folder, which took about 5 hours. \n",
        "The cfg file `batch` and `subdivision` is set 64 each. The width and height of images set to 416.\n"
      ]
    },
    {
      "cell_type": "markdown",
      "metadata": {
        "_uuid": "41b4ca297869af6808b758824960e9dad12d00c0",
        "id": "mFBYqVQh6UN7",
        "colab_type": "text"
      },
      "source": [
        "### 5.2. cfg file for test (not for training)"
      ]
    },
    {
      "cell_type": "code",
      "metadata": {
        "id": "GWJF1tYX4CsJ",
        "colab_type": "code",
        "colab": {}
      },
      "source": [
        "!/content/gdrive/My\\ Drive/Colab\\ Notebooks/Capstone\\ Project/darknet/darknet detector valid rsna.data /content/gdrive/My\\ Drive/Colab\\ Notebooks/Capstone\\ Project/data/cfg/yolov3-tiny-c1_test.cfg ./model_backup/rsna_yolov3_batch64_6300.weights"
      ],
      "execution_count": 0,
      "outputs": []
    },
    {
      "cell_type": "code",
      "metadata": {
        "trusted": true,
        "_uuid": "0dec1cc6f5bd1f8c854697128091ec7bd69d6e3e",
        "id": "FeQ75GAc6UOA",
        "colab_type": "code",
        "colab": {}
      },
      "source": [
        "ex_model_path = \"./pred_results/comp4_det_test_pneumonia.txt\"\n",
        "\n",
        "df = pd.read_table(ex_model_path,sep=\" \",names=['imgName','scale','x','y','w','h'])\n",
        "df.sample(1)\n",
        "\n",
        "for index,row in df.sample(1).iterrows():\n",
        "  imgName = \"/content/gdrive/My Drive/Colab Notebooks/Capstone Project/data/training_images/\"+row['imgName']+\".jpg\"\n",
        "  plt.imshow(cv2.imread(imgName))\n",
        "  x = (rcx-rw/2)*img_size\n",
        "        y = (rcy-rh/2)*img_size\n",
        "        w = rw*img_size\n",
        "        h = rh*img_size\n"
      ],
      "execution_count": 0,
      "outputs": []
    },
    {
      "cell_type": "markdown",
      "metadata": {
        "_uuid": "064029258018a3aa0ee22c59d74e6f321b767bf8",
        "id": "V0zySTPN6UOC",
        "colab_type": "text"
      },
      "source": [
        "## 6. Generate Submission Files with YOLOv3 Python Wrapper"
      ]
    },
    {
      "cell_type": "markdown",
      "metadata": {
        "_uuid": "91eafd163f9e78557c7acb1be7176845cc15d4c1",
        "id": "sKR_-OS16UOF",
        "colab_type": "text"
      },
      "source": [
        "### 6.1. Load darknet python wrapper module"
      ]
    },
    {
      "cell_type": "code",
      "metadata": {
        "trusted": true,
        "_uuid": "238a70858c290db54f72700fe57215bd7934f6d8",
        "id": "drXJT6CR6UOG",
        "colab_type": "code",
        "colab": {}
      },
      "source": [
        "from darknet import *"
      ],
      "execution_count": 0,
      "outputs": []
    },
    {
      "cell_type": "markdown",
      "metadata": {
        "_uuid": "1f6193268a5bd5b27d3ba855d6d36715a63d4ee0",
        "id": "n7a2ssqZ6UOI",
        "colab_type": "text"
      },
      "source": [
        "### 6.2. Generate submission files\n",
        "* When making submission files, be aware of label format which is different in yolo."
      ]
    },
    {
      "cell_type": "code",
      "metadata": {
        "trusted": true,
        "_uuid": "877c1dc79f4a4cb0dc3c322a05282d3d902ed615",
        "id": "LG4NQMgQ6UOJ",
        "colab_type": "code",
        "colab": {}
      },
      "source": [
        "threshold = 0.2"
      ],
      "execution_count": 0,
      "outputs": []
    },
    {
      "cell_type": "code",
      "metadata": {
        "trusted": true,
        "_uuid": "b776bab5a37d180d2e5185555b47cafb1a964a71",
        "id": "_0nU2W6Z6UOO",
        "colab_type": "code",
        "colab": {}
      },
      "source": [
        "submit_file_path = \"submission.csv\"\n",
        "cfg_path = os.path.join(cfg_dir, \"yolov3-tiny-c1_test.cfg\")\n",
        "weight_path = os.path.join(backup_dir, \"rsna_yolov3_batch64_6300.weights\")\n",
        "\n",
        "test_img_list_path = os.path.join(metadata_dir, \"te_list.txt\")"
      ],
      "execution_count": 0,
      "outputs": []
    },
    {
      "cell_type": "code",
      "metadata": {
        "trusted": true,
        "_uuid": "d82a944502827338091976c4912f5eb6af6e886e",
        "id": "jPIGhWcV6UOR",
        "colab_type": "code",
        "colab": {}
      },
      "source": [
        "gpu_index = 0\n",
        "net = load_net(cfg_path.encode(),\n",
        "               weight_path.encode(), \n",
        "               gpu_index)\n",
        "meta = load_meta(data_extention_file_path.encode())"
      ],
      "execution_count": 0,
      "outputs": []
    },
    {
      "cell_type": "code",
      "metadata": {
        "trusted": true,
        "_uuid": "c11fa319a577beff0a0d53f107489ee79771bc22",
        "id": "OHf97lgs6UOT",
        "colab_type": "code",
        "colab": {}
      },
      "source": [
        "submit_dict = {\"patientId\": [], \"PredictionString\": []}\n",
        "\n",
        "with open(test_img_list_path, \"r\") as test_img_list_f:\n",
        "    # tqdm run up to 1000(The # of test set)\n",
        "    for line in tqdm(test_img_list_f):\n",
        "        patient_id = line.strip().split('/')[-1].strip().split('.')[0]\n",
        "\n",
        "        infer_result = detect(net, meta, line.strip().encode(), thresh=threshold)\n",
        "\n",
        "        submit_line = \"\"\n",
        "        for e in infer_result:\n",
        "            confi = e[1]\n",
        "            w = e[2][2]\n",
        "            h = e[2][3]\n",
        "            x = e[2][0]-w/2\n",
        "            y = e[2][1]-h/2\n",
        "            submit_line += \"{} {} {} {} {} \".format(confi, x, y, w, h)\n",
        "\n",
        "        submit_dict[\"patientId\"].append(patient_id)\n",
        "        submit_dict[\"PredictionString\"].append(submit_line)\n",
        "\n",
        "pd.DataFrame(submit_dict).to_csv(submit_file_path, index=False)"
      ],
      "execution_count": 0,
      "outputs": []
    }
  ]
}